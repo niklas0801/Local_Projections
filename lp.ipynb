{
 "cells": [
  {
   "cell_type": "markdown",
   "metadata": {},
   "source": [
    "# Estimating the macroeconomic effect of conflicts with local projections"
   ]
  },
  {
   "cell_type": "markdown",
   "metadata": {},
   "source": [
    "***Author:*** N. Julitz\n",
    "\n",
    "***Data:*** (UCDP) Georeferenced Event Dataset, GDP per capita (IMF), World Population Data (Kaggle)\n",
    "\n",
    "\n",
    "***Further info:***"
   ]
  },
  {
   "cell_type": "markdown",
   "metadata": {},
   "source": [
    "### First, we need to import the relevant libraries"
   ]
  },
  {
   "cell_type": "code",
   "execution_count": 476,
   "metadata": {},
   "outputs": [],
   "source": [
    "import pandas as pd\n",
    "import numpy as np\n",
    "from linearmodels.panel import PanelOLS\n",
    "import statsmodels.api as sm\n",
    "import datetime as datetime"
   ]
  },
  {
   "cell_type": "markdown",
   "metadata": {},
   "source": [
    "### Then, we need to import the datasets we want to use"
   ]
  },
  {
   "cell_type": "code",
   "execution_count": 477,
   "metadata": {},
   "outputs": [],
   "source": [
    "ucdp = pd.read_csv(\"UCDP.csv\", low_memory=False)\n",
    "\n",
    "gdp = pd.read_excel(\"GDP.xlsx\")\n",
    "\n",
    "population = pd.read_csv(\"population.csv\", sep=\",\")"
   ]
  },
  {
   "cell_type": "markdown",
   "metadata": {},
   "source": [
    "## Making the ucdp-dataset ready for statistical analysis"
   ]
  },
  {
   "cell_type": "code",
   "execution_count": 478,
   "metadata": {},
   "outputs": [
    {
     "name": "stdout",
     "output_type": "stream",
     "text": [
      "<class 'pandas.core.frame.DataFrame'>\n",
      "RangeIndex: 349733 entries, 0 to 349732\n",
      "Data columns (total 49 columns):\n",
      " #   Column             Non-Null Count   Dtype  \n",
      "---  ------             --------------   -----  \n",
      " 0   id                 349733 non-null  int64  \n",
      " 1   relid              349733 non-null  object \n",
      " 2   year               349733 non-null  int64  \n",
      " 3   active_year        349733 non-null  int64  \n",
      " 4   code_status        349733 non-null  object \n",
      " 5   type_of_violence   349733 non-null  int64  \n",
      " 6   conflict_dset_id   349733 non-null  int64  \n",
      " 7   conflict_new_id    349733 non-null  int64  \n",
      " 8   conflict_name      349733 non-null  object \n",
      " 9   dyad_dset_id       349733 non-null  int64  \n",
      " 10  dyad_new_id        349733 non-null  int64  \n",
      " 11  dyad_name          349733 non-null  object \n",
      " 12  side_a_dset_id     349733 non-null  int64  \n",
      " 13  side_a_new_id      349733 non-null  int64  \n",
      " 14  side_a             349733 non-null  object \n",
      " 15  side_b_dset_id     349733 non-null  int64  \n",
      " 16  side_b_new_id      349733 non-null  int64  \n",
      " 17  side_b             349733 non-null  object \n",
      " 18  number_of_sources  349733 non-null  int64  \n",
      " 19  source_article     349733 non-null  object \n",
      " 20  source_office      251211 non-null  object \n",
      " 21  source_date        251211 non-null  object \n",
      " 22  source_headline    251205 non-null  object \n",
      " 23  source_original    306273 non-null  object \n",
      " 24  where_prec         349733 non-null  int64  \n",
      " 25  where_coordinates  349733 non-null  object \n",
      " 26  where_description  341001 non-null  object \n",
      " 27  adm_1              331054 non-null  object \n",
      " 28  adm_2              280734 non-null  object \n",
      " 29  latitude           349733 non-null  float64\n",
      " 30  longitude          349733 non-null  float64\n",
      " 31  geom_wkt           349733 non-null  object \n",
      " 32  priogrid_gid       349733 non-null  int64  \n",
      " 33  country            349733 non-null  object \n",
      " 34  country_id         349733 non-null  int64  \n",
      " 35  region             349733 non-null  object \n",
      " 36  event_clarity      349733 non-null  int64  \n",
      " 37  date_prec          349733 non-null  int64  \n",
      " 38  date_start         349733 non-null  object \n",
      " 39  date_end           349733 non-null  object \n",
      " 40  deaths_a           349733 non-null  int64  \n",
      " 41  deaths_b           349733 non-null  int64  \n",
      " 42  deaths_civilians   349733 non-null  int64  \n",
      " 43  deaths_unknown     349733 non-null  int64  \n",
      " 44  best               349733 non-null  int64  \n",
      " 45  high               349733 non-null  int64  \n",
      " 46  low                349733 non-null  int64  \n",
      " 47  gwnoa              265919 non-null  object \n",
      " 48  gwnob              15910 non-null   float64\n",
      "dtypes: float64(3), int64(25), object(21)\n",
      "memory usage: 130.7+ MB\n"
     ]
    }
   ],
   "source": [
    "ucdp.info()"
   ]
  },
  {
   "cell_type": "code",
   "execution_count": 479,
   "metadata": {},
   "outputs": [
    {
     "data": {
      "text/plain": [
       "202"
      ]
     },
     "execution_count": 479,
     "metadata": {},
     "output_type": "execute_result"
    }
   ],
   "source": [
    "ucdp[\"total_deaths\"] = ucdp.deaths_a + ucdp.deaths_b + ucdp.deaths_civilians # make a column for the total deaths\n",
    "\n",
    "ucdp[\"conflict_dummy\"] = ucdp[\"total_deaths\"].apply(lambda x: 1 if x > 1000 else 0) # all conflicts, that bypass a threshold of 1,000 deaths, are coded to 1 and all others are coded to 0\n",
    "\n",
    "len(ucdp[ucdp[\"conflict_dummy\"] == 1]) # the total threshold identifies 202 conflicts"
   ]
  },
  {
   "cell_type": "code",
   "execution_count": 480,
   "metadata": {},
   "outputs": [
    {
     "data": {
      "text/plain": [
       "Index(['id', 'relid', 'year', 'active_year', 'code_status', 'type_of_violence',\n",
       "       'conflict_dset_id', 'conflict_new_id', 'conflict_name', 'dyad_dset_id',\n",
       "       'dyad_new_id', 'dyad_name', 'side_a_dset_id', 'side_a_new_id', 'side_a',\n",
       "       'side_b_dset_id', 'side_b_new_id', 'side_b', 'number_of_sources',\n",
       "       'source_article', 'source_office', 'source_date', 'source_headline',\n",
       "       'source_original', 'where_prec', 'where_coordinates',\n",
       "       'where_description', 'adm_1', 'adm_2', 'latitude', 'longitude',\n",
       "       'geom_wkt', 'priogrid_gid', 'country', 'country_id', 'region',\n",
       "       'event_clarity', 'date_prec', 'date_start', 'date_end', 'deaths_a',\n",
       "       'deaths_b', 'deaths_civilians', 'deaths_unknown', 'best', 'high', 'low',\n",
       "       'gwnoa', 'gwnob', 'total_deaths', 'conflict_dummy'],\n",
       "      dtype='object')"
      ]
     },
     "execution_count": 480,
     "metadata": {},
     "output_type": "execute_result"
    }
   ],
   "source": [
    "ucdp.columns"
   ]
  },
  {
   "cell_type": "code",
   "execution_count": 481,
   "metadata": {},
   "outputs": [],
   "source": [
    "# convert all dates to datetime-objects\n",
    "ucdp[\"date_start\"] = pd.to_datetime(ucdp[\"date_start\"])\n",
    "ucdp[\"date_end\"] = pd.to_datetime(ucdp[\"date_end\"])\n",
    "\n",
    "# add a new DataFrame with years from 1988-2023\n",
    "ucdp = ucdp[(ucdp[\"year\"] >= 1988) & (ucdp[\"year\"] <= 2023)].copy()\n",
    "\n",
    "# dropping all columns not needed\n",
    "conflict = ucdp.drop(ucdp.columns[[0, 1, 3, 4, 5, 6, 7, 8, 9, 10, 11, 12, 13, 14, 15, 16, 17, 18, 19, 20, 21, 22, 23, 24, 25, 26, 27, 28, 29, 30, 31, 32, 34, 35, 36, 37, 44, 45, 46, 47, 48]], axis=1)"
   ]
  },
  {
   "cell_type": "markdown",
   "metadata": {},
   "source": [
    "### Applying the definition for conflict-onset"
   ]
  },
  {
   "cell_type": "code",
   "execution_count": 482,
   "metadata": {},
   "outputs": [],
   "source": [
    "# we need to classify a new conflict onset after 4 years of not reaching the threshold\n",
    "\n",
    "# sort the rows after country and year (descending)\n",
    "conflict.sort_values(by=[\"country\", \"year\", \"date_start\"], ascending=False, ignore_index=True, inplace=True)\n",
    "\n",
    "# grouping the dataset after country and years and sum up the deaths for each year\n",
    "conflict_grouped = conflict.groupby(by=[\"country\", \"year\"]).total_deaths.sum().unstack().copy()\n",
    "conflict_grouped = conflict_grouped.reset_index().copy()\n",
    "conflict_grouped = conflict_grouped.melt(id_vars=\"country\").copy()\n",
    "conflict_grouped = conflict_grouped.rename(columns={\"value\": \"total_deaths\"}).copy()\n",
    "conflict_grouped.sort_values(by=[\"country\", \"year\"], ascending=False, ignore_index=True, inplace=True)\n",
    "\n",
    "# by grouping, the dataframe was changed into wide-format, which caused all countries to appear in every year column, even though not every country has a conflict in every year\n",
    "# we need to change that by dropping all NaN-values\n",
    "conflict_grouped = conflict_grouped.dropna().copy()"
   ]
  },
  {
   "cell_type": "code",
   "execution_count": 483,
   "metadata": {},
   "outputs": [],
   "source": [
    "# problem: for the application of the conflict-onset-definition, we need to make sure, that there is no years are left out in the countries\n",
    "# otherwise, the application will set years as conflict-onset, which are not\n",
    "\n",
    "all_years = pd.DataFrame()\n",
    "\n",
    "for country in conflict_grouped['country'].unique():\n",
    "    country_df = conflict_grouped[conflict_grouped['country'] == country]\n",
    "    min_year = country_df['year'].min()\n",
    "    max_year = country_df['year'].max()\n",
    "    full_years = pd.DataFrame({'year': range(min_year, max_year + 1)})\n",
    "    full_years['country'] = country\n",
    "    all_years = pd.concat([all_years, full_years])\n",
    "\n",
    "conflict_grouped = pd.merge(all_years, conflict_grouped, on=['country', 'year'], how='left')\n",
    "\n",
    "conflict_grouped[\"total_deaths\"] = conflict_grouped[\"total_deaths\"].astype(float).fillna(0)"
   ]
  },
  {
   "cell_type": "code",
   "execution_count": 484,
   "metadata": {},
   "outputs": [],
   "source": [
    "# again, we need to apply the 1000 deaths threshold\n",
    "conflict_grouped[\"conflict_dummy\"] = conflict_grouped[\"total_deaths\"].apply(lambda x: 1 if x > 1000 else 0)"
   ]
  },
  {
   "cell_type": "code",
   "execution_count": 485,
   "metadata": {},
   "outputs": [
    {
     "name": "stderr",
     "output_type": "stream",
     "text": [
      "/var/folders/rx/hnk5_pq93gs_md650fn70c6m0000gn/T/ipykernel_24431/1398739182.py:19: DeprecationWarning: DataFrameGroupBy.apply operated on the grouping columns. This behavior is deprecated, and in a future version of pandas the grouping columns will be excluded from the operation. Either pass `include_groups=False` to exclude the groupings or explicitly select the grouping columns after groupby to silence this warning.\n",
      "  conflict_grouped['conflict_onset'] = country_grouped.apply(lambda x: check_condition(x, target_value)).reset_index(level=0, drop=True)\n"
     ]
    }
   ],
   "source": [
    "# applying the definition for conflict-onset and create a new column for that\n",
    "\n",
    "target_value = 0\n",
    "\n",
    "country_grouped = conflict_grouped.groupby('country')\n",
    "\n",
    "def check_condition(group, target_value):\n",
    "    \n",
    "    shifted_0 = group['conflict_dummy']\n",
    "    shifted_1 = group['conflict_dummy'].shift(1)\n",
    "    shifted_2 = group['conflict_dummy'].shift(2)\n",
    "    shifted_3 = group['conflict_dummy'].shift(3)\n",
    "    shifted_4 = group['conflict_dummy'].shift(4)\n",
    "\n",
    "    condition = (shifted_0 == 1) & (shifted_1 == target_value) & (shifted_2 == target_value) & (shifted_3 == target_value) & (shifted_4 == target_value)\n",
    "    return condition\n",
    "\n",
    "\n",
    "conflict_grouped['conflict_onset'] = country_grouped.apply(lambda x: check_condition(x, target_value)).reset_index(level=0, drop=True)\n",
    "\n",
    "conflict_grouped[\"conflict_onset\"] = conflict_grouped[\"conflict_onset\"].astype(str).copy()"
   ]
  },
  {
   "cell_type": "code",
   "execution_count": 486,
   "metadata": {},
   "outputs": [],
   "source": [
    "conflict_grouped.loc[conflict_grouped[\"conflict_onset\"] == \"True\", \"conflict_onset\"] = 1\n",
    "conflict_grouped.loc[conflict_grouped[\"conflict_onset\"] == \"False\", \"conflict_onset\"] = 0"
   ]
  },
  {
   "cell_type": "code",
   "execution_count": 487,
   "metadata": {},
   "outputs": [],
   "source": [
    "conflict = conflict_grouped"
   ]
  },
  {
   "cell_type": "markdown",
   "metadata": {},
   "source": [
    "## Making the gdp-per-capita-dataset ready for statistical analysis"
   ]
  },
  {
   "cell_type": "code",
   "execution_count": 488,
   "metadata": {},
   "outputs": [],
   "source": [
    "# data is in us-dollar per capita\n",
    "gdp_melted = pd.melt(gdp, id_vars=[\"country\"]).copy() # change the dataframe from wide-format to long-format\n",
    "\n",
    "gdp_melted.rename(columns={\"variable\": \"year\", \"value\": \"gdp\"}, inplace=True) # renamed columns\n",
    "\n",
    "# add a new dataframe with years from 1988-2023\n",
    "gdp_final = gdp_melted[(gdp_melted[\"year\"] >= 1988) & (gdp_melted[\"year\"] <= 2023)].copy()\n",
    "gdp_final.reset_index(inplace=True)\n",
    "del(gdp_final[\"index\"])\n",
    "\n",
    "# changing the data-format of columns year and gdp\n",
    "gdp_final.loc[gdp_final[\"gdp\"] == \"no data\", \"gdp\"] = np.nan\n",
    "gdp_final = gdp_final[gdp_final[\"country\"] != \"©IMF, 2024\"].copy()\n",
    "gdp_final = gdp_final[~gdp_final[\"country\"].isna()] # deleting all country-entries which have missing values\n",
    "\n",
    "# imputation of missing values in gdp column with mean value of gdp per capita for the specific country\n",
    "mean_gdp = gdp_final.groupby(by=\"country\").gdp.mean().copy()\n",
    "\n",
    "gdp_merged = pd.merge(left=gdp_final, right=mean_gdp, on=\"country\", how=\"left\").copy() # left-join both dataframes\n",
    "\n",
    "gdp_merged['gdp_x'] = gdp_merged['gdp_x'].combine_first(gdp_merged['gdp_y']) # replace all missing values with the mean value of its country\n",
    "\n",
    "gdp_merged.rename(columns={\"gdp_x\": \"gdp\", \"gdp_y\": \"gdp_mean\"}, inplace=True) # renaming columns\n",
    "\n",
    "gdp_merged[\"gdp\"] = gdp_merged[\"gdp\"].astype(float).copy()\n",
    "\n",
    "gdp_merged.sort_values(by=[\"country\", \"year\"], ascending=False, ignore_index=True, inplace=True)\n",
    "\n",
    "gdp_merged.drop(columns=[\"gdp_mean\"], inplace=True)"
   ]
  },
  {
   "cell_type": "markdown",
   "metadata": {},
   "source": [
    "## Making the population-dataset ready for statistical analysis"
   ]
  },
  {
   "cell_type": "code",
   "execution_count": 489,
   "metadata": {},
   "outputs": [],
   "source": [
    "# dropping and renaming some columns\n",
    "population.drop(columns=[\"rank\", \"cca3\", \"continent\", \"density (km²)\", \"area (km²)\", \"growth rate\", \"world percentage\"], inplace=True)\n",
    "\n",
    "population.rename(columns={\"2023 population\": \"2023\", \"2022 population\": \"2022\", \"2020 population\": \"2020\", \"2015 population\": \"2015\", \"2010 population\": \"2010\", \"2000 population\": \"2000\", \"1990 population\": \"1990\", \"1980 population\": \"1980\", \"1970 population\": \"1970\"}, inplace=True)"
   ]
  },
  {
   "cell_type": "code",
   "execution_count": 490,
   "metadata": {},
   "outputs": [],
   "source": [
    "population = population.melt(id_vars=\"country\")\n",
    "\n",
    "population.rename(columns={\"variable\": \"year\", \"value\": \"population\"}, inplace=True)\n",
    "\n",
    "population.sort_values(by=[\"country\", \"year\"], ascending=False, ignore_index=True, inplace=True)"
   ]
  },
  {
   "cell_type": "markdown",
   "metadata": {},
   "source": [
    "## Now, we need to merge all three datasets"
   ]
  },
  {
   "cell_type": "code",
   "execution_count": 491,
   "metadata": {},
   "outputs": [],
   "source": [
    "# use a left-join on the conflict-dataset, since this is the data, we are dependent on\n",
    "\n",
    "joined_df = pd.merge(conflict, gdp_merged, on=[\"country\", \"year\"], how=\"left\")\n",
    "\n",
    "joined_df.dropna(inplace=True, ignore_index=True)"
   ]
  },
  {
   "cell_type": "code",
   "execution_count": 492,
   "metadata": {},
   "outputs": [],
   "source": [
    "# since we are working with panel data, the columns country (entity-column) and year (time-column) must be set as an index\n",
    "\n",
    "joined_df.set_index([\"country\", \"year\"], inplace=True)"
   ]
  },
  {
   "cell_type": "markdown",
   "metadata": {},
   "source": [
    "## Next, the regression model (local projection) is specified"
   ]
  },
  {
   "cell_type": "markdown",
   "metadata": {},
   "source": [
    "The regression formula should look similar to this:"
   ]
  },
  {
   "cell_type": "markdown",
   "metadata": {},
   "source": [
    "$$\n",
    "y_{it+h} - y_{it-1} = \\beta_1^h c_{it} + \\beta_2^h c_{it-1} + \\sum_{j=1}^{h-1} \\beta_j^h c_{it+h-j} + \\theta_1^h \\Delta y_{it-1} + \\theta_2^h x_{it} + \\mu_i^h + \\gamma_t^h + \\epsilon_{it}^h\n",
    "$$"
   ]
  },
  {
   "cell_type": "code",
   "execution_count": 494,
   "metadata": {},
   "outputs": [
    {
     "name": "stdout",
     "output_type": "stream",
     "text": [
      "                          PanelOLS Estimation Summary                           \n",
      "================================================================================\n",
      "Dep. Variable:                    gdp   R-squared:                        0.0063\n",
      "Estimator:                   PanelOLS   R-squared (Between):              0.0193\n",
      "No. Observations:                2423   R-squared (Within):               0.0087\n",
      "Date:                Sat, Aug 10 2024   R-squared (Overall):              0.0098\n",
      "Time:                        20:51:14   Log-likelihood                   -1377.9\n",
      "Cov. Estimator:            Unadjusted                                           \n",
      "                                        F-statistic:                      7.2037\n",
      "Entities:                         104   P-value                           0.0008\n",
      "Avg Obs:                       23.298   Distribution:                  F(2,2283)\n",
      "Min Obs:                       1.0000                                           \n",
      "Max Obs:                       35.000   F-statistic (robust):             7.2037\n",
      "                                        P-value                           0.0008\n",
      "Time periods:                      35   Distribution:                  F(2,2283)\n",
      "Avg Obs:                       69.229                                           \n",
      "Min Obs:                       43.000                                           \n",
      "Max Obs:                       75.000                                           \n",
      "                                                                                \n",
      "                             Parameter Estimates                              \n",
      "==============================================================================\n",
      "            Parameter  Std. Err.     T-stat    P-value    Lower CI    Upper CI\n",
      "------------------------------------------------------------------------------\n",
      "c             -0.1306     0.0394    -3.3141     0.0009     -0.2079     -0.0533\n",
      "c_shift        0.1256     0.0392     3.2065     0.0014      0.0488      0.2025\n",
      "==============================================================================\n",
      "\n",
      "F-test for Poolability: 5.4979\n",
      "P-value: 0.0000\n",
      "Distribution: F(137,2283)\n",
      "\n",
      "Included effects: Entity, Time\n"
     ]
    },
    {
     "name": "stderr",
     "output_type": "stream",
     "text": [
      "/Library/Frameworks/Python.framework/Versions/3.12/lib/python3.12/site-packages/linearmodels/panel/model.py:1219: MissingValueWarning: \n",
      "Inputs contain missing values. Dropping rows with missing observations.\n",
      "  super().__init__(dependent, exog, weights=weights, check_rank=check_rank)\n"
     ]
    }
   ],
   "source": [
    "# now, the local projections formula is specified\n",
    "\n",
    "c = joined_df[\"conflict_dummy\"]\n",
    "c_shift = joined_df[\"conflict_dummy\"].shift(1)\n",
    "y = np.log(joined_df[\"gdp\"]) - np.log(joined_df[\"gdp\"].shift(1))\n",
    "\n",
    "\n",
    "x = pd.DataFrame({'c': c, 'c_shift': c_shift})\n",
    "mod = PanelOLS(y, x, entity_effects=True, time_effects=True)\n",
    "res = mod.fit()\n",
    "print(res.summary)"
   ]
  }
 ],
 "metadata": {
  "kernelspec": {
   "display_name": "Python 3",
   "language": "python",
   "name": "python3"
  },
  "language_info": {
   "codemirror_mode": {
    "name": "ipython",
    "version": 3
   },
   "file_extension": ".py",
   "mimetype": "text/x-python",
   "name": "python",
   "nbconvert_exporter": "python",
   "pygments_lexer": "ipython3",
   "version": "3.12.0"
  }
 },
 "nbformat": 4,
 "nbformat_minor": 2
}
