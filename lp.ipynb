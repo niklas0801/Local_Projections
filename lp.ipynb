{
 "cells": [
  {
   "cell_type": "markdown",
   "metadata": {},
   "source": [
    "# Estimating the macroeconomic effect of conflicts with local projections"
   ]
  },
  {
   "cell_type": "markdown",
   "metadata": {},
   "source": [
    "***Author:*** N. Julitz\n",
    "\n",
    "***Data:*** (UCDP) Georeferenced Event Dataset, GDP per capita (IMF), World Population Data (Kaggle)\n",
    "\n",
    "\n",
    "***Further info:***"
   ]
  },
  {
   "cell_type": "markdown",
   "metadata": {},
   "source": [
    "### First, we need to import the relevant libraries"
   ]
  },
  {
   "cell_type": "code",
   "execution_count": 51,
   "metadata": {},
   "outputs": [],
   "source": [
    "import pandas as pd\n",
    "import numpy as np\n",
    "import statsmodels.api as sm # We'll use statsmodels for the local projections\n",
    "import statsmodels.formula.api as smf\n",
    "import datetime as datetime"
   ]
  },
  {
   "cell_type": "markdown",
   "metadata": {},
   "source": [
    "### Then, we need to import the datasets we want to use"
   ]
  },
  {
   "cell_type": "code",
   "execution_count": 52,
   "metadata": {},
   "outputs": [],
   "source": [
    "ucdp = pd.read_csv(\"/Users/niklas/Documents/Coding/Data_Science/Datasets/UCDP.csv\", low_memory=False)\n",
    "\n",
    "gdp = pd.read_excel(\"/Users/niklas/Documents/Coding/Data_Science/Datasets/GDP.xlsx\")\n",
    "\n",
    "population = pd.read_csv(\"/Users/niklas/Documents/Coding/Data_Science/Datasets/population.csv\", sep=\",\")"
   ]
  },
  {
   "cell_type": "markdown",
   "metadata": {},
   "source": [
    "## Making the ucdp-dataset ready for statistical analysis"
   ]
  },
  {
   "cell_type": "code",
   "execution_count": 53,
   "metadata": {},
   "outputs": [
    {
     "name": "stdout",
     "output_type": "stream",
     "text": [
      "<class 'pandas.core.frame.DataFrame'>\n",
      "RangeIndex: 349733 entries, 0 to 349732\n",
      "Data columns (total 49 columns):\n",
      " #   Column             Non-Null Count   Dtype  \n",
      "---  ------             --------------   -----  \n",
      " 0   id                 349733 non-null  int64  \n",
      " 1   relid              349733 non-null  object \n",
      " 2   year               349733 non-null  int64  \n",
      " 3   active_year        349733 non-null  int64  \n",
      " 4   code_status        349733 non-null  object \n",
      " 5   type_of_violence   349733 non-null  int64  \n",
      " 6   conflict_dset_id   349733 non-null  int64  \n",
      " 7   conflict_new_id    349733 non-null  int64  \n",
      " 8   conflict_name      349733 non-null  object \n",
      " 9   dyad_dset_id       349733 non-null  int64  \n",
      " 10  dyad_new_id        349733 non-null  int64  \n",
      " 11  dyad_name          349733 non-null  object \n",
      " 12  side_a_dset_id     349733 non-null  int64  \n",
      " 13  side_a_new_id      349733 non-null  int64  \n",
      " 14  side_a             349733 non-null  object \n",
      " 15  side_b_dset_id     349733 non-null  int64  \n",
      " 16  side_b_new_id      349733 non-null  int64  \n",
      " 17  side_b             349733 non-null  object \n",
      " 18  number_of_sources  349733 non-null  int64  \n",
      " 19  source_article     349733 non-null  object \n",
      " 20  source_office      251211 non-null  object \n",
      " 21  source_date        251211 non-null  object \n",
      " 22  source_headline    251205 non-null  object \n",
      " 23  source_original    306273 non-null  object \n",
      " 24  where_prec         349733 non-null  int64  \n",
      " 25  where_coordinates  349733 non-null  object \n",
      " 26  where_description  341001 non-null  object \n",
      " 27  adm_1              331054 non-null  object \n",
      " 28  adm_2              280734 non-null  object \n",
      " 29  latitude           349733 non-null  float64\n",
      " 30  longitude          349733 non-null  float64\n",
      " 31  geom_wkt           349733 non-null  object \n",
      " 32  priogrid_gid       349733 non-null  int64  \n",
      " 33  country            349733 non-null  object \n",
      " 34  country_id         349733 non-null  int64  \n",
      " 35  region             349733 non-null  object \n",
      " 36  event_clarity      349733 non-null  int64  \n",
      " 37  date_prec          349733 non-null  int64  \n",
      " 38  date_start         349733 non-null  object \n",
      " 39  date_end           349733 non-null  object \n",
      " 40  deaths_a           349733 non-null  int64  \n",
      " 41  deaths_b           349733 non-null  int64  \n",
      " 42  deaths_civilians   349733 non-null  int64  \n",
      " 43  deaths_unknown     349733 non-null  int64  \n",
      " 44  best               349733 non-null  int64  \n",
      " 45  high               349733 non-null  int64  \n",
      " 46  low                349733 non-null  int64  \n",
      " 47  gwnoa              265919 non-null  object \n",
      " 48  gwnob              15910 non-null   float64\n",
      "dtypes: float64(3), int64(25), object(21)\n",
      "memory usage: 130.7+ MB\n"
     ]
    }
   ],
   "source": [
    "ucdp.info()"
   ]
  },
  {
   "cell_type": "code",
   "execution_count": 54,
   "metadata": {},
   "outputs": [
    {
     "data": {
      "text/plain": [
       "202"
      ]
     },
     "execution_count": 54,
     "metadata": {},
     "output_type": "execute_result"
    }
   ],
   "source": [
    "ucdp[\"total_deaths\"] = ucdp.deaths_a + ucdp.deaths_b + ucdp.deaths_civilians # make a column for the total deaths\n",
    "\n",
    "ucdp[\"conflict_dummy\"] = ucdp[\"total_deaths\"].apply(lambda x: 1 if x > 1000 else 0) # all conflicts, that bypass a threshold of 1,000 deaths, are coded to 1 and all others are coded to 0\n",
    "\n",
    "len(ucdp[ucdp[\"conflict_dummy\"] == 1]) # the total threshold identifies 202 conflicts"
   ]
  },
  {
   "cell_type": "code",
   "execution_count": 55,
   "metadata": {},
   "outputs": [
    {
     "data": {
      "text/plain": [
       "Index(['id', 'relid', 'year', 'active_year', 'code_status', 'type_of_violence',\n",
       "       'conflict_dset_id', 'conflict_new_id', 'conflict_name', 'dyad_dset_id',\n",
       "       'dyad_new_id', 'dyad_name', 'side_a_dset_id', 'side_a_new_id', 'side_a',\n",
       "       'side_b_dset_id', 'side_b_new_id', 'side_b', 'number_of_sources',\n",
       "       'source_article', 'source_office', 'source_date', 'source_headline',\n",
       "       'source_original', 'where_prec', 'where_coordinates',\n",
       "       'where_description', 'adm_1', 'adm_2', 'latitude', 'longitude',\n",
       "       'geom_wkt', 'priogrid_gid', 'country', 'country_id', 'region',\n",
       "       'event_clarity', 'date_prec', 'date_start', 'date_end', 'deaths_a',\n",
       "       'deaths_b', 'deaths_civilians', 'deaths_unknown', 'best', 'high', 'low',\n",
       "       'gwnoa', 'gwnob', 'total_deaths', 'conflict_dummy'],\n",
       "      dtype='object')"
      ]
     },
     "execution_count": 55,
     "metadata": {},
     "output_type": "execute_result"
    }
   ],
   "source": [
    "ucdp.columns"
   ]
  },
  {
   "cell_type": "code",
   "execution_count": 56,
   "metadata": {},
   "outputs": [],
   "source": [
    "# convert all dates to datetime-objects\n",
    "ucdp[\"date_start\"] = pd.to_datetime(ucdp[\"date_start\"])\n",
    "ucdp[\"date_end\"] = pd.to_datetime(ucdp[\"date_end\"])\n",
    "\n",
    "# add a new DataFrame with years from 1988-2023\n",
    "ucdp = ucdp[(ucdp[\"year\"] >= 1988) & (ucdp[\"year\"] <= 2023)].copy()\n",
    "\n",
    "# dropping all columns not needed\n",
    "conflict = ucdp.drop(ucdp.columns[[0, 1, 3, 4, 5, 6, 7, 8, 9, 10, 11, 12, 13, 14, 15, 16, 17, 18, 19, 20, 21, 22, 23, 24, 25, 26, 27, 28, 29, 30, 31, 32, 34, 35, 36, 37, 44, 45, 46, 47, 48]], axis=1)"
   ]
  },
  {
   "cell_type": "markdown",
   "metadata": {},
   "source": [
    "### Applying the definition for conflict-onset"
   ]
  },
  {
   "cell_type": "code",
   "execution_count": 57,
   "metadata": {},
   "outputs": [],
   "source": [
    "# we need to classify a new conflict onset after 4 years of not reaching the threshold\n",
    "\n",
    "# sort the rows after country and year (descending)\n",
    "conflict.sort_values(by=[\"country\", \"year\", \"date_start\"], ascending=False, ignore_index=True, inplace=True)\n",
    "\n",
    "# grouping the dataset after country and years and sum up the deaths for each year\n",
    "conflict_grouped = conflict.groupby(by=[\"country\", \"year\"]).total_deaths.sum().unstack().copy()\n",
    "conflict_grouped = conflict_grouped.reset_index().copy()\n",
    "conflict_grouped = conflict_grouped.melt(id_vars=\"country\").copy()\n",
    "conflict_grouped = conflict_grouped.rename(columns={\"value\": \"total_deaths\"}).copy()\n",
    "conflict_grouped.sort_values(by=[\"country\", \"year\"], ascending=False, ignore_index=True, inplace=True)\n",
    "\n",
    "# by grouping, the dataframe was changed into wide-format, which caused all countries to appear in every year column, even though not every country has a conflict in every year\n",
    "# we need to change that by dropping all NaN-values\n",
    "conflict_grouped = conflict_grouped.dropna().copy()\n",
    "\n",
    "# again, we need to apply the 1000 deaths threshold\n",
    "conflict_grouped[\"conflict_dummy\"] = conflict_grouped[\"total_deaths\"].apply(lambda x: 1 if x > 1000 else 0)\n",
    "\n",
    "# applying the definition for conflict-onset\n",
    "conflict_grouped[\"conflict_onset\"] = conflict_grouped[\"conflict_dummy\"].rolling(window=4).sum().shift(1)"
   ]
  },
  {
   "cell_type": "markdown",
   "metadata": {},
   "source": [
    "## Making the gdp-per-capita-dataset ready for statistical analysis"
   ]
  },
  {
   "cell_type": "code",
   "execution_count": 58,
   "metadata": {},
   "outputs": [],
   "source": [
    "# data is in us-dollar per capita\n",
    "gdp_melted = pd.melt(gdp, id_vars=[\"country\"]).copy() # change the dataframe from wide-format to long-format\n",
    "\n",
    "gdp_melted.rename(columns={\"variable\": \"year\", \"value\": \"gdp\"}, inplace=True) # renamed columns\n",
    "\n",
    "# add a new dataframe with years from 1988-2023\n",
    "gdp_final = gdp_melted[(gdp_melted[\"year\"] >= 1988) & (gdp_melted[\"year\"] <= 2023)].copy()\n",
    "gdp_final.reset_index(inplace=True)\n",
    "del(gdp_final[\"index\"])\n",
    "\n",
    "# changing the data-format of columns year and gdp\n",
    "gdp_final.loc[gdp_final[\"gdp\"] == \"no data\", \"gdp\"] = np.nan\n",
    "gdp_final = gdp_final[gdp_final[\"country\"] != \"©IMF, 2024\"].copy()\n",
    "gdp_final = gdp_final[~gdp_final[\"country\"].isna()] # deleting all country-entries which have missing values\n",
    "\n",
    "# imputation of missing values in gdp column with mean value of gdp per capita for the specific country\n",
    "mean_gdp = gdp_final.groupby(by=\"country\").gdp.mean().copy()\n",
    "\n",
    "gdp_merged = pd.merge(left=gdp_final, right=mean_gdp, on=\"country\", how=\"left\").copy() # left-join both dataframes\n",
    "\n",
    "gdp_merged['gdp_x'] = gdp_merged['gdp_x'].combine_first(gdp_merged['gdp_y']) # replace all missing values with the mean value of its country\n",
    "\n",
    "gdp_merged.rename(columns={\"gdp_x\": \"gdp\", \"gdp_y\": \"gdp_mean\"}, inplace=True) # renaming columns\n",
    "\n",
    "gdp_merged[\"gdp\"] = gdp_merged[\"gdp\"].astype(float).copy()"
   ]
  },
  {
   "cell_type": "markdown",
   "metadata": {},
   "source": [
    "## Making the population-dataset ready for statistical analysis"
   ]
  },
  {
   "cell_type": "code",
   "execution_count": 59,
   "metadata": {},
   "outputs": [],
   "source": [
    "# dropping and renaming some columns\n",
    "population.drop(columns=[\"rank\", \"cca3\", \"continent\", \"density (km²)\", \"area (km²)\", \"growth rate\", \"world percentage\"], inplace=True)\n",
    "\n",
    "population.rename(columns={\"2023 population\": \"2023\", \"2022 population\": \"2022\", \"2020 population\": \"2020\", \"2015 population\": \"2015\", \"2010 population\": \"2010\", \"2000 population\": \"2000\", \"1990 population\": \"1990\", \"1980 population\": \"1980\", \"1970 population\": \"1970\"}, inplace=True)"
   ]
  },
  {
   "cell_type": "code",
   "execution_count": 60,
   "metadata": {},
   "outputs": [],
   "source": [
    "population = population.melt(id_vars=\"country\")"
   ]
  },
  {
   "cell_type": "markdown",
   "metadata": {},
   "source": [
    "## Next, the regression model (local projection) is specified"
   ]
  },
  {
   "cell_type": "code",
   "execution_count": 61,
   "metadata": {},
   "outputs": [
    {
     "ename": "KeyError",
     "evalue": "'gdp'",
     "output_type": "error",
     "traceback": [
      "\u001b[0;31m---------------------------------------------------------------------------\u001b[0m",
      "\u001b[0;31mKeyError\u001b[0m                                  Traceback (most recent call last)",
      "File \u001b[0;32m/Library/Frameworks/Python.framework/Versions/3.12/lib/python3.12/site-packages/pandas/core/indexes/base.py:3802\u001b[0m, in \u001b[0;36mIndex.get_loc\u001b[0;34m(self, key)\u001b[0m\n\u001b[1;32m   3801\u001b[0m \u001b[38;5;28;01mtry\u001b[39;00m:\n\u001b[0;32m-> 3802\u001b[0m     \u001b[38;5;28;01mreturn\u001b[39;00m \u001b[38;5;28;43mself\u001b[39;49m\u001b[38;5;241;43m.\u001b[39;49m\u001b[43m_engine\u001b[49m\u001b[38;5;241;43m.\u001b[39;49m\u001b[43mget_loc\u001b[49m\u001b[43m(\u001b[49m\u001b[43mcasted_key\u001b[49m\u001b[43m)\u001b[49m\n\u001b[1;32m   3803\u001b[0m \u001b[38;5;28;01mexcept\u001b[39;00m \u001b[38;5;167;01mKeyError\u001b[39;00m \u001b[38;5;28;01mas\u001b[39;00m err:\n",
      "File \u001b[0;32mindex.pyx:153\u001b[0m, in \u001b[0;36mpandas._libs.index.IndexEngine.get_loc\u001b[0;34m()\u001b[0m\n",
      "File \u001b[0;32mindex.pyx:182\u001b[0m, in \u001b[0;36mpandas._libs.index.IndexEngine.get_loc\u001b[0;34m()\u001b[0m\n",
      "File \u001b[0;32mpandas/_libs/hashtable_class_helper.pxi:7081\u001b[0m, in \u001b[0;36mpandas._libs.hashtable.PyObjectHashTable.get_item\u001b[0;34m()\u001b[0m\n",
      "File \u001b[0;32mpandas/_libs/hashtable_class_helper.pxi:7089\u001b[0m, in \u001b[0;36mpandas._libs.hashtable.PyObjectHashTable.get_item\u001b[0;34m()\u001b[0m\n",
      "\u001b[0;31mKeyError\u001b[0m: 'gdp'",
      "\nThe above exception was the direct cause of the following exception:\n",
      "\u001b[0;31mKeyError\u001b[0m                                  Traceback (most recent call last)",
      "Cell \u001b[0;32mIn[61], line 2\u001b[0m\n\u001b[1;32m      1\u001b[0m X \u001b[38;5;241m=\u001b[39m conflict[\u001b[38;5;124m\"\u001b[39m\u001b[38;5;124mconflict_dummy\u001b[39m\u001b[38;5;124m\"\u001b[39m] \u001b[38;5;66;03m# Wichtig: Durchschnitt über Jahre mit Konfliktländern bilden\u001b[39;00m\n\u001b[0;32m----> 2\u001b[0m Y \u001b[38;5;241m=\u001b[39m \u001b[43mgdp\u001b[49m\u001b[43m[\u001b[49m\u001b[38;5;124;43m\"\u001b[39;49m\u001b[38;5;124;43mgdp\u001b[39;49m\u001b[38;5;124;43m\"\u001b[39;49m\u001b[43m]\u001b[49m \u001b[38;5;66;03m# Wichtig: Durchschnitt über Jahre mit Konfliktländern bilden\u001b[39;00m\n\u001b[1;32m      4\u001b[0m lp \u001b[38;5;241m=\u001b[39m sm\u001b[38;5;241m.\u001b[39mOLS(Y, X)\n\u001b[1;32m      6\u001b[0m res \u001b[38;5;241m=\u001b[39m lp\u001b[38;5;241m.\u001b[39mfit()\n",
      "File \u001b[0;32m/Library/Frameworks/Python.framework/Versions/3.12/lib/python3.12/site-packages/pandas/core/frame.py:4090\u001b[0m, in \u001b[0;36mDataFrame.__getitem__\u001b[0;34m(self, key)\u001b[0m\n\u001b[1;32m   4088\u001b[0m \u001b[38;5;28;01mif\u001b[39;00m \u001b[38;5;28mself\u001b[39m\u001b[38;5;241m.\u001b[39mcolumns\u001b[38;5;241m.\u001b[39mnlevels \u001b[38;5;241m>\u001b[39m \u001b[38;5;241m1\u001b[39m:\n\u001b[1;32m   4089\u001b[0m     \u001b[38;5;28;01mreturn\u001b[39;00m \u001b[38;5;28mself\u001b[39m\u001b[38;5;241m.\u001b[39m_getitem_multilevel(key)\n\u001b[0;32m-> 4090\u001b[0m indexer \u001b[38;5;241m=\u001b[39m \u001b[38;5;28;43mself\u001b[39;49m\u001b[38;5;241;43m.\u001b[39;49m\u001b[43mcolumns\u001b[49m\u001b[38;5;241;43m.\u001b[39;49m\u001b[43mget_loc\u001b[49m\u001b[43m(\u001b[49m\u001b[43mkey\u001b[49m\u001b[43m)\u001b[49m\n\u001b[1;32m   4091\u001b[0m \u001b[38;5;28;01mif\u001b[39;00m is_integer(indexer):\n\u001b[1;32m   4092\u001b[0m     indexer \u001b[38;5;241m=\u001b[39m [indexer]\n",
      "File \u001b[0;32m/Library/Frameworks/Python.framework/Versions/3.12/lib/python3.12/site-packages/pandas/core/indexes/base.py:3809\u001b[0m, in \u001b[0;36mIndex.get_loc\u001b[0;34m(self, key)\u001b[0m\n\u001b[1;32m   3804\u001b[0m     \u001b[38;5;28;01mif\u001b[39;00m \u001b[38;5;28misinstance\u001b[39m(casted_key, \u001b[38;5;28mslice\u001b[39m) \u001b[38;5;129;01mor\u001b[39;00m (\n\u001b[1;32m   3805\u001b[0m         \u001b[38;5;28misinstance\u001b[39m(casted_key, abc\u001b[38;5;241m.\u001b[39mIterable)\n\u001b[1;32m   3806\u001b[0m         \u001b[38;5;129;01mand\u001b[39;00m \u001b[38;5;28many\u001b[39m(\u001b[38;5;28misinstance\u001b[39m(x, \u001b[38;5;28mslice\u001b[39m) \u001b[38;5;28;01mfor\u001b[39;00m x \u001b[38;5;129;01min\u001b[39;00m casted_key)\n\u001b[1;32m   3807\u001b[0m     ):\n\u001b[1;32m   3808\u001b[0m         \u001b[38;5;28;01mraise\u001b[39;00m InvalidIndexError(key)\n\u001b[0;32m-> 3809\u001b[0m     \u001b[38;5;28;01mraise\u001b[39;00m \u001b[38;5;167;01mKeyError\u001b[39;00m(key) \u001b[38;5;28;01mfrom\u001b[39;00m \u001b[38;5;21;01merr\u001b[39;00m\n\u001b[1;32m   3810\u001b[0m \u001b[38;5;28;01mexcept\u001b[39;00m \u001b[38;5;167;01mTypeError\u001b[39;00m:\n\u001b[1;32m   3811\u001b[0m     \u001b[38;5;66;03m# If we have a listlike key, _check_indexing_error will raise\u001b[39;00m\n\u001b[1;32m   3812\u001b[0m     \u001b[38;5;66;03m#  InvalidIndexError. Otherwise we fall through and re-raise\u001b[39;00m\n\u001b[1;32m   3813\u001b[0m     \u001b[38;5;66;03m#  the TypeError.\u001b[39;00m\n\u001b[1;32m   3814\u001b[0m     \u001b[38;5;28mself\u001b[39m\u001b[38;5;241m.\u001b[39m_check_indexing_error(key)\n",
      "\u001b[0;31mKeyError\u001b[0m: 'gdp'"
     ]
    }
   ],
   "source": [
    "X = conflict[\"conflict_dummy\"] # Wichtig: Durchschnitt über Jahre mit Konfliktländern bilden\n",
    "Y = gdp_merged[\"gdp\"] # Wichtig: Durchschnitt über Jahre mit Konfliktländern bilden\n",
    "\n",
    "lp = sm.OLS(Y, X)\n",
    "\n",
    "res = lp.fit()\n",
    "\n",
    "print(res.summary())"
   ]
  }
 ],
 "metadata": {
  "kernelspec": {
   "display_name": "Python 3",
   "language": "python",
   "name": "python3"
  },
  "language_info": {
   "codemirror_mode": {
    "name": "ipython",
    "version": 3
   },
   "file_extension": ".py",
   "mimetype": "text/x-python",
   "name": "python",
   "nbconvert_exporter": "python",
   "pygments_lexer": "ipython3",
   "version": "3.12.0"
  }
 },
 "nbformat": 4,
 "nbformat_minor": 2
}
