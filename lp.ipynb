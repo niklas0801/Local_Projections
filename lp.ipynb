{
 "cells": [
  {
   "cell_type": "markdown",
   "metadata": {},
   "source": [
    "### First, we need to import the relevant libraries"
   ]
  },
  {
   "cell_type": "code",
   "execution_count": 17,
   "metadata": {},
   "outputs": [],
   "source": [
    "import pandas as pd\n",
    "import numpy as np\n",
    "import statsmodels.api as sm # We'll use statsmodels for the regressions\n",
    "import statsmodels.formula.api as smf\n",
    "import datetime as datetime"
   ]
  },
  {
   "cell_type": "markdown",
   "metadata": {},
   "source": [
    "### Then, we need to import the datasets we want to use"
   ]
  },
  {
   "cell_type": "code",
   "execution_count": 18,
   "metadata": {},
   "outputs": [],
   "source": [
    "ucdp = pd.read_csv(\"/Users/niklas/Documents/Uni/5. Semester/Data Science mit Python/UCDP.csv\", low_memory=False)\n",
    "\n",
    "gdp = pd.read_excel(\"/Users/niklas/Documents/Uni/5. Semester/Data Science mit Python/GDP.xlsx\")"
   ]
  },
  {
   "cell_type": "markdown",
   "metadata": {},
   "source": [
    "### Make the ucdp-dataset ready for statistical analysis"
   ]
  },
  {
   "cell_type": "code",
   "execution_count": 19,
   "metadata": {},
   "outputs": [
    {
     "name": "stdout",
     "output_type": "stream",
     "text": [
      "<class 'pandas.core.frame.DataFrame'>\n",
      "RangeIndex: 349733 entries, 0 to 349732\n",
      "Data columns (total 49 columns):\n",
      " #   Column             Non-Null Count   Dtype  \n",
      "---  ------             --------------   -----  \n",
      " 0   id                 349733 non-null  int64  \n",
      " 1   relid              349733 non-null  object \n",
      " 2   year               349733 non-null  int64  \n",
      " 3   active_year        349733 non-null  int64  \n",
      " 4   code_status        349733 non-null  object \n",
      " 5   type_of_violence   349733 non-null  int64  \n",
      " 6   conflict_dset_id   349733 non-null  int64  \n",
      " 7   conflict_new_id    349733 non-null  int64  \n",
      " 8   conflict_name      349733 non-null  object \n",
      " 9   dyad_dset_id       349733 non-null  int64  \n",
      " 10  dyad_new_id        349733 non-null  int64  \n",
      " 11  dyad_name          349733 non-null  object \n",
      " 12  side_a_dset_id     349733 non-null  int64  \n",
      " 13  side_a_new_id      349733 non-null  int64  \n",
      " 14  side_a             349733 non-null  object \n",
      " 15  side_b_dset_id     349733 non-null  int64  \n",
      " 16  side_b_new_id      349733 non-null  int64  \n",
      " 17  side_b             349733 non-null  object \n",
      " 18  number_of_sources  349733 non-null  int64  \n",
      " 19  source_article     349733 non-null  object \n",
      " 20  source_office      251211 non-null  object \n",
      " 21  source_date        251211 non-null  object \n",
      " 22  source_headline    251205 non-null  object \n",
      " 23  source_original    306273 non-null  object \n",
      " 24  where_prec         349733 non-null  int64  \n",
      " 25  where_coordinates  349733 non-null  object \n",
      " 26  where_description  341001 non-null  object \n",
      " 27  adm_1              331054 non-null  object \n",
      " 28  adm_2              280734 non-null  object \n",
      " 29  latitude           349733 non-null  float64\n",
      " 30  longitude          349733 non-null  float64\n",
      " 31  geom_wkt           349733 non-null  object \n",
      " 32  priogrid_gid       349733 non-null  int64  \n",
      " 33  country            349733 non-null  object \n",
      " 34  country_id         349733 non-null  int64  \n",
      " 35  region             349733 non-null  object \n",
      " 36  event_clarity      349733 non-null  int64  \n",
      " 37  date_prec          349733 non-null  int64  \n",
      " 38  date_start         349733 non-null  object \n",
      " 39  date_end           349733 non-null  object \n",
      " 40  deaths_a           349733 non-null  int64  \n",
      " 41  deaths_b           349733 non-null  int64  \n",
      " 42  deaths_civilians   349733 non-null  int64  \n",
      " 43  deaths_unknown     349733 non-null  int64  \n",
      " 44  best               349733 non-null  int64  \n",
      " 45  high               349733 non-null  int64  \n",
      " 46  low                349733 non-null  int64  \n",
      " 47  gwnoa              265919 non-null  object \n",
      " 48  gwnob              15910 non-null   float64\n",
      "dtypes: float64(3), int64(25), object(21)\n",
      "memory usage: 130.7+ MB\n"
     ]
    }
   ],
   "source": [
    "ucdp.info()"
   ]
  },
  {
   "cell_type": "code",
   "execution_count": 20,
   "metadata": {},
   "outputs": [
    {
     "data": {
      "text/plain": [
       "Index(['id', 'relid', 'year', 'active_year', 'code_status', 'type_of_violence',\n",
       "       'conflict_dset_id', 'conflict_new_id', 'conflict_name', 'dyad_dset_id',\n",
       "       'dyad_new_id', 'dyad_name', 'side_a_dset_id', 'side_a_new_id', 'side_a',\n",
       "       'side_b_dset_id', 'side_b_new_id', 'side_b', 'number_of_sources',\n",
       "       'source_article', 'source_office', 'source_date', 'source_headline',\n",
       "       'source_original', 'where_prec', 'where_coordinates',\n",
       "       'where_description', 'adm_1', 'adm_2', 'latitude', 'longitude',\n",
       "       'geom_wkt', 'priogrid_gid', 'country', 'country_id', 'region',\n",
       "       'event_clarity', 'date_prec', 'date_start', 'date_end', 'deaths_a',\n",
       "       'deaths_b', 'deaths_civilians', 'deaths_unknown', 'best', 'high', 'low',\n",
       "       'gwnoa', 'gwnob'],\n",
       "      dtype='object')"
      ]
     },
     "execution_count": 20,
     "metadata": {},
     "output_type": "execute_result"
    }
   ],
   "source": [
    "ucdp.columns"
   ]
  },
  {
   "cell_type": "code",
   "execution_count": 21,
   "metadata": {},
   "outputs": [
    {
     "data": {
      "text/plain": [
       "202"
      ]
     },
     "execution_count": 21,
     "metadata": {},
     "output_type": "execute_result"
    }
   ],
   "source": [
    "ucdp[\"total_deaths\"] = ucdp.deaths_a + ucdp.deaths_b + ucdp.deaths_civilians # make a column for the total deaths\n",
    "\n",
    "ucdp[\"conflict_dummy\"] = ucdp[\"total_deaths\"].apply(lambda x: 1 if x > 1000 else 0) # all conflicts, that bypass a threshold of 1,000 deaths, are coded to 1 and all others are coded to 0\n",
    "\n",
    "len(ucdp[ucdp[\"conflict_dummy\"] == 1]) # the total threshold identifies 202 conflicts"
   ]
  },
  {
   "cell_type": "code",
   "execution_count": 22,
   "metadata": {},
   "outputs": [],
   "source": [
    "# convert all dates to datetime-objects\n",
    "ucdp[\"date_start\"] = pd.to_datetime(ucdp[\"date_start\"])\n",
    "ucdp[\"date_end\"] = pd.to_datetime(ucdp[\"date_end\"])\n",
    "\n",
    "# add a new DataFrame with years from 1988-2023\n",
    "conflict = ucdp[(ucdp[\"year\"] >= 1988) & (ucdp[\"year\"] <= 2023)].copy()"
   ]
  },
  {
   "cell_type": "markdown",
   "metadata": {},
   "source": [
    "### Make the gdp-per-capita-dataset ready for statistical analysis"
   ]
  },
  {
   "cell_type": "code",
   "execution_count": 30,
   "metadata": {},
   "outputs": [],
   "source": [
    "# data is in us-dollar per capita\n",
    "gdp_melted = pd.melt(gdp, id_vars=[\"country\"]).copy() # change the dataframe from wide-format to long-format\n",
    "\n",
    "gdp_melted.rename(columns={\"variable\": \"year\", \"value\": \"gdp\"}, inplace=True) # renamed columns\n",
    "\n",
    "# add a new dataframe with years from 1988-2023\n",
    "gdp_final = gdp_melted[(gdp_melted[\"year\"] >= 1988) & (gdp_melted[\"year\"] <= 2023)].copy()\n",
    "gdp_final.reset_index(inplace=True)\n",
    "del(gdp_final[\"index\"])\n",
    "\n",
    "# changing the data-format of columns year and gdp\n",
    "gdp_final.loc[gdp_final[\"gdp\"] == \"no data\", \"gdp\"] = np.nan\n",
    "gdp_final.drop(index=[0, 8314, 8315], inplace=True)\n",
    "\n",
    "# imputation of missing values in gdp column with mean value of gdp per capita for the specific country\n",
    "mean_gdp = gdp_final.groupby(by=\"country\").gdp.mean().copy()\n"
   ]
  },
  {
   "cell_type": "markdown",
   "metadata": {},
   "source": [
    "### Next, the regression model (local projection) is specified"
   ]
  },
  {
   "cell_type": "code",
   "execution_count": 24,
   "metadata": {},
   "outputs": [
    {
     "ename": "SyntaxError",
     "evalue": "invalid syntax (1672828355.py, line 2)",
     "output_type": "error",
     "traceback": [
      "\u001b[0;36m  Cell \u001b[0;32mIn[24], line 2\u001b[0;36m\u001b[0m\n\u001b[0;31m    Y = weo[]\u001b[0m\n\u001b[0m            ^\u001b[0m\n\u001b[0;31mSyntaxError\u001b[0m\u001b[0;31m:\u001b[0m invalid syntax\n"
     ]
    }
   ],
   "source": [
    "X = conflict[\"conflict_dummy\"].exog\n",
    "Y = weo[]\n",
    "\n",
    "lp = sm.OLS(Y, X)\n",
    "\n",
    "res = lp.fit()\n",
    "\n",
    "print(res.summary())"
   ]
  }
 ],
 "metadata": {
  "kernelspec": {
   "display_name": "Python 3",
   "language": "python",
   "name": "python3"
  },
  "language_info": {
   "codemirror_mode": {
    "name": "ipython",
    "version": 3
   },
   "file_extension": ".py",
   "mimetype": "text/x-python",
   "name": "python",
   "nbconvert_exporter": "python",
   "pygments_lexer": "ipython3",
   "version": "3.12.0"
  }
 },
 "nbformat": 4,
 "nbformat_minor": 2
}
